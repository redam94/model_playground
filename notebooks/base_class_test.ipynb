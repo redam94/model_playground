{
 "cells": [
  {
   "cell_type": "code",
   "execution_count": 35,
   "metadata": {},
   "outputs": [
    {
     "name": "stdout",
     "output_type": "stream",
     "text": [
      "The autoreload extension is already loaded. To reload it, use:\n",
      "  %reload_ext autoreload\n"
     ]
    }
   ],
   "source": [
    "%load_ext autoreload\n",
    "%autoreload 2"
   ]
  },
  {
   "cell_type": "code",
   "execution_count": 36,
   "metadata": {},
   "outputs": [],
   "source": [
    "import abc\n",
    "from datetime import datetime\n",
    "from uuid import uuid4\n",
    "import pandas as pd\n",
    "import numpy as np\n",
    "import matplotlib.pyplot as plt\n",
    "import sys\n",
    "import statsmodels.api as sm\n",
    "from io import FileIO, BytesIO, StringIO\n",
    "\n",
    "sys.path.append('..')\n",
    "from src.models.supervised.regression.crosssection.linear_models.OLS import OLS"
   ]
  },
  {
   "cell_type": "code",
   "execution_count": 37,
   "metadata": {},
   "outputs": [],
   "source": [
    "my_model = OLS()"
   ]
  },
  {
   "cell_type": "code",
   "execution_count": 38,
   "metadata": {},
   "outputs": [
    {
     "data": {
      "text/html": [
       "<style type=\"text/css\">\n",
       "#T_de6ef_row0_col0, #T_de6ef_row1_col1, #T_de6ef_row2_col2 {\n",
       "  background-color: #b40426;\n",
       "  color: #f1f1f1;\n",
       "}\n",
       "#T_de6ef_row0_col1, #T_de6ef_row0_col2, #T_de6ef_row1_col0 {\n",
       "  background-color: #3b4cc0;\n",
       "  color: #f1f1f1;\n",
       "}\n",
       "#T_de6ef_row1_col2 {\n",
       "  background-color: #8fb1fe;\n",
       "  color: #000000;\n",
       "}\n",
       "#T_de6ef_row2_col0 {\n",
       "  background-color: #cbd8ee;\n",
       "  color: #000000;\n",
       "}\n",
       "#T_de6ef_row2_col1 {\n",
       "  background-color: #efcfbf;\n",
       "  color: #000000;\n",
       "}\n",
       "</style>\n",
       "<table id=\"T_de6ef\">\n",
       "  <thead>\n",
       "    <tr>\n",
       "      <th class=\"blank level0\" >&nbsp;</th>\n",
       "      <th id=\"T_de6ef_level0_col0\" class=\"col_heading level0 col0\" >X1</th>\n",
       "      <th id=\"T_de6ef_level0_col1\" class=\"col_heading level0 col1\" >X2</th>\n",
       "      <th id=\"T_de6ef_level0_col2\" class=\"col_heading level0 col2\" >y</th>\n",
       "    </tr>\n",
       "  </thead>\n",
       "  <tbody>\n",
       "    <tr>\n",
       "      <th id=\"T_de6ef_level0_row0\" class=\"row_heading level0 row0\" >X1</th>\n",
       "      <td id=\"T_de6ef_row0_col0\" class=\"data row0 col0\" >1.000000</td>\n",
       "      <td id=\"T_de6ef_row0_col1\" class=\"data row0 col1\" >0.227342</td>\n",
       "      <td id=\"T_de6ef_row0_col2\" class=\"data row0 col2\" >0.565312</td>\n",
       "    </tr>\n",
       "    <tr>\n",
       "      <th id=\"T_de6ef_level0_row1\" class=\"row_heading level0 row1\" >X2</th>\n",
       "      <td id=\"T_de6ef_row1_col0\" class=\"data row1 col0\" >0.227342</td>\n",
       "      <td id=\"T_de6ef_row1_col1\" class=\"data row1 col1\" >1.000000</td>\n",
       "      <td id=\"T_de6ef_row1_col2\" class=\"data row1 col2\" >0.676830</td>\n",
       "    </tr>\n",
       "    <tr>\n",
       "      <th id=\"T_de6ef_level0_row2\" class=\"row_heading level0 row2\" >y</th>\n",
       "      <td id=\"T_de6ef_row2_col0\" class=\"data row2 col0\" >0.565312</td>\n",
       "      <td id=\"T_de6ef_row2_col1\" class=\"data row2 col1\" >0.676830</td>\n",
       "      <td id=\"T_de6ef_row2_col2\" class=\"data row2 col2\" >1.000000</td>\n",
       "    </tr>\n",
       "  </tbody>\n",
       "</table>\n"
      ],
      "text/plain": [
       "<pandas.io.formats.style.Styler at 0x714645a359d0>"
      ]
     },
     "execution_count": 38,
     "metadata": {},
     "output_type": "execute_result"
    }
   ],
   "source": [
    "X = np.random.multivariate_normal([0, 0], [[3, 0.9], [0.9, 3]], 156)\n",
    "y = X.dot([0.4, 0.6]) + np.random.normal(0, 1, 156)\n",
    "data = np.vstack([X.T, y]).T\n",
    "df = pd.DataFrame(data, columns=[\"X1\", \"X2\", \"y\"])\n",
    "df.corr().style.background_gradient(cmap='coolwarm')"
   ]
  },
  {
   "cell_type": "code",
   "execution_count": 39,
   "metadata": {},
   "outputs": [],
   "source": [
    "sm_model = sm.OLS(y, sm.add_constant(X)).fit()"
   ]
  },
  {
   "cell_type": "code",
   "execution_count": 40,
   "metadata": {},
   "outputs": [],
   "source": [
    "my_model.fit(df[['X1', 'X2']], df['y'])"
   ]
  },
  {
   "cell_type": "code",
   "execution_count": 41,
   "metadata": {},
   "outputs": [],
   "source": [
    "from zipfile import ZipFile"
   ]
  },
  {
   "cell_type": "code",
   "execution_count": 49,
   "metadata": {},
   "outputs": [],
   "source": [
    "test = my_model.save()"
   ]
  },
  {
   "cell_type": "code",
   "execution_count": 50,
   "metadata": {},
   "outputs": [],
   "source": [
    "with open('test.zip', 'wb') as f:\n",
    "    f.write(test.getvalue())"
   ]
  },
  {
   "cell_type": "code",
   "execution_count": 26,
   "metadata": {},
   "outputs": [],
   "source": [
    "loaded_model = OLS()"
   ]
  },
  {
   "cell_type": "code",
   "execution_count": 45,
   "metadata": {},
   "outputs": [],
   "source": [
    "loaded_model.load(\"ols_test.zip\")"
   ]
  },
  {
   "cell_type": "code",
   "execution_count": 46,
   "metadata": {},
   "outputs": [
    {
     "data": {
      "text/html": [
       "<table class=\"simpletable\">\n",
       "<caption>OLS Regression Results</caption>\n",
       "<tr>\n",
       "  <th>Dep. Variable:</th>            <td>y</td>        <th>  R-squared:         </th> <td>   0.637</td>\n",
       "</tr>\n",
       "<tr>\n",
       "  <th>Model:</th>                   <td>OLS</td>       <th>  Adj. R-squared:    </th> <td>   0.632</td>\n",
       "</tr>\n",
       "<tr>\n",
       "  <th>Method:</th>             <td>Least Squares</td>  <th>  F-statistic:       </th> <td>   134.0</td>\n",
       "</tr>\n",
       "<tr>\n",
       "  <th>Date:</th>             <td>Sat, 22 Jun 2024</td> <th>  Prob (F-statistic):</th> <td>2.34e-34</td>\n",
       "</tr>\n",
       "<tr>\n",
       "  <th>Time:</th>                 <td>19:44:44</td>     <th>  Log-Likelihood:    </th> <td> -230.17</td>\n",
       "</tr>\n",
       "<tr>\n",
       "  <th>No. Observations:</th>      <td>   156</td>      <th>  AIC:               </th> <td>   466.3</td>\n",
       "</tr>\n",
       "<tr>\n",
       "  <th>Df Residuals:</th>          <td>   153</td>      <th>  BIC:               </th> <td>   475.5</td>\n",
       "</tr>\n",
       "<tr>\n",
       "  <th>Df Model:</th>              <td>     2</td>      <th>                     </th>     <td> </td>   \n",
       "</tr>\n",
       "<tr>\n",
       "  <th>Covariance Type:</th>      <td>nonrobust</td>    <th>                     </th>     <td> </td>   \n",
       "</tr>\n",
       "</table>\n",
       "<table class=\"simpletable\">\n",
       "<tr>\n",
       "    <td></td>       <th>coef</th>     <th>std err</th>      <th>t</th>      <th>P>|t|</th>  <th>[0.025</th>    <th>0.975]</th>  \n",
       "</tr>\n",
       "<tr>\n",
       "  <th>const</th> <td>   -0.0246</td> <td>    0.087</td> <td>   -0.282</td> <td> 0.778</td> <td>   -0.197</td> <td>    0.148</td>\n",
       "</tr>\n",
       "<tr>\n",
       "  <th>X1</th>    <td>    0.4749</td> <td>    0.055</td> <td>    8.669</td> <td> 0.000</td> <td>    0.367</td> <td>    0.583</td>\n",
       "</tr>\n",
       "<tr>\n",
       "  <th>X2</th>    <td>    0.5884</td> <td>    0.051</td> <td>   11.553</td> <td> 0.000</td> <td>    0.488</td> <td>    0.689</td>\n",
       "</tr>\n",
       "</table>\n",
       "<table class=\"simpletable\">\n",
       "<tr>\n",
       "  <th>Omnibus:</th>       <td> 4.742</td> <th>  Durbin-Watson:     </th> <td>   1.923</td>\n",
       "</tr>\n",
       "<tr>\n",
       "  <th>Prob(Omnibus):</th> <td> 0.093</td> <th>  Jarque-Bera (JB):  </th> <td>   2.683</td>\n",
       "</tr>\n",
       "<tr>\n",
       "  <th>Skew:</th>          <td> 0.041</td> <th>  Prob(JB):          </th> <td>   0.261</td>\n",
       "</tr>\n",
       "<tr>\n",
       "  <th>Kurtosis:</th>      <td> 2.363</td> <th>  Cond. No.          </th> <td>    1.95</td>\n",
       "</tr>\n",
       "</table><br/><br/>Notes:<br/>[1] Standard Errors assume that the covariance matrix of the errors is correctly specified."
      ],
      "text/latex": [
       "\\begin{center}\n",
       "\\begin{tabular}{lclc}\n",
       "\\toprule\n",
       "\\textbf{Dep. Variable:}    &        y         & \\textbf{  R-squared:         } &     0.637   \\\\\n",
       "\\textbf{Model:}            &       OLS        & \\textbf{  Adj. R-squared:    } &     0.632   \\\\\n",
       "\\textbf{Method:}           &  Least Squares   & \\textbf{  F-statistic:       } &     134.0   \\\\\n",
       "\\textbf{Date:}             & Sat, 22 Jun 2024 & \\textbf{  Prob (F-statistic):} &  2.34e-34   \\\\\n",
       "\\textbf{Time:}             &     19:44:44     & \\textbf{  Log-Likelihood:    } &   -230.17   \\\\\n",
       "\\textbf{No. Observations:} &         156      & \\textbf{  AIC:               } &     466.3   \\\\\n",
       "\\textbf{Df Residuals:}     &         153      & \\textbf{  BIC:               } &     475.5   \\\\\n",
       "\\textbf{Df Model:}         &           2      & \\textbf{                     } &             \\\\\n",
       "\\textbf{Covariance Type:}  &    nonrobust     & \\textbf{                     } &             \\\\\n",
       "\\bottomrule\n",
       "\\end{tabular}\n",
       "\\begin{tabular}{lcccccc}\n",
       "               & \\textbf{coef} & \\textbf{std err} & \\textbf{t} & \\textbf{P$> |$t$|$} & \\textbf{[0.025} & \\textbf{0.975]}  \\\\\n",
       "\\midrule\n",
       "\\textbf{const} &      -0.0246  &        0.087     &    -0.282  &         0.778        &       -0.197    &        0.148     \\\\\n",
       "\\textbf{X1}    &       0.4749  &        0.055     &     8.669  &         0.000        &        0.367    &        0.583     \\\\\n",
       "\\textbf{X2}    &       0.5884  &        0.051     &    11.553  &         0.000        &        0.488    &        0.689     \\\\\n",
       "\\bottomrule\n",
       "\\end{tabular}\n",
       "\\begin{tabular}{lclc}\n",
       "\\textbf{Omnibus:}       &  4.742 & \\textbf{  Durbin-Watson:     } &    1.923  \\\\\n",
       "\\textbf{Prob(Omnibus):} &  0.093 & \\textbf{  Jarque-Bera (JB):  } &    2.683  \\\\\n",
       "\\textbf{Skew:}          &  0.041 & \\textbf{  Prob(JB):          } &    0.261  \\\\\n",
       "\\textbf{Kurtosis:}      &  2.363 & \\textbf{  Cond. No.          } &     1.95  \\\\\n",
       "\\bottomrule\n",
       "\\end{tabular}\n",
       "%\\caption{OLS Regression Results}\n",
       "\\end{center}\n",
       "\n",
       "Notes: \\newline\n",
       " [1] Standard Errors assume that the covariance matrix of the errors is correctly specified."
      ],
      "text/plain": [
       "<class 'statsmodels.iolib.summary.Summary'>\n",
       "\"\"\"\n",
       "                            OLS Regression Results                            \n",
       "==============================================================================\n",
       "Dep. Variable:                      y   R-squared:                       0.637\n",
       "Model:                            OLS   Adj. R-squared:                  0.632\n",
       "Method:                 Least Squares   F-statistic:                     134.0\n",
       "Date:                Sat, 22 Jun 2024   Prob (F-statistic):           2.34e-34\n",
       "Time:                        19:44:44   Log-Likelihood:                -230.17\n",
       "No. Observations:                 156   AIC:                             466.3\n",
       "Df Residuals:                     153   BIC:                             475.5\n",
       "Df Model:                           2                                         \n",
       "Covariance Type:            nonrobust                                         \n",
       "==============================================================================\n",
       "                 coef    std err          t      P>|t|      [0.025      0.975]\n",
       "------------------------------------------------------------------------------\n",
       "const         -0.0246      0.087     -0.282      0.778      -0.197       0.148\n",
       "X1             0.4749      0.055      8.669      0.000       0.367       0.583\n",
       "X2             0.5884      0.051     11.553      0.000       0.488       0.689\n",
       "==============================================================================\n",
       "Omnibus:                        4.742   Durbin-Watson:                   1.923\n",
       "Prob(Omnibus):                  0.093   Jarque-Bera (JB):                2.683\n",
       "Skew:                           0.041   Prob(JB):                        0.261\n",
       "Kurtosis:                       2.363   Cond. No.                         1.95\n",
       "==============================================================================\n",
       "\n",
       "Notes:\n",
       "[1] Standard Errors assume that the covariance matrix of the errors is correctly specified.\n",
       "\"\"\""
      ]
     },
     "execution_count": 46,
     "metadata": {},
     "output_type": "execute_result"
    }
   ],
   "source": [
    "my_model.summary()"
   ]
  },
  {
   "cell_type": "code",
   "execution_count": 47,
   "metadata": {},
   "outputs": [
    {
     "data": {
      "text/html": [
       "<table class=\"simpletable\">\n",
       "<caption>OLS Regression Results</caption>\n",
       "<tr>\n",
       "  <th>Dep. Variable:</th>            <td>y</td>        <th>  R-squared:         </th> <td>   0.637</td>\n",
       "</tr>\n",
       "<tr>\n",
       "  <th>Model:</th>                   <td>OLS</td>       <th>  Adj. R-squared:    </th> <td>   0.632</td>\n",
       "</tr>\n",
       "<tr>\n",
       "  <th>Method:</th>             <td>Least Squares</td>  <th>  F-statistic:       </th> <td>   134.0</td>\n",
       "</tr>\n",
       "<tr>\n",
       "  <th>Date:</th>             <td>Sat, 22 Jun 2024</td> <th>  Prob (F-statistic):</th> <td>2.34e-34</td>\n",
       "</tr>\n",
       "<tr>\n",
       "  <th>Time:</th>                 <td>19:44:45</td>     <th>  Log-Likelihood:    </th> <td> -230.17</td>\n",
       "</tr>\n",
       "<tr>\n",
       "  <th>No. Observations:</th>      <td>   156</td>      <th>  AIC:               </th> <td>   466.3</td>\n",
       "</tr>\n",
       "<tr>\n",
       "  <th>Df Residuals:</th>          <td>   153</td>      <th>  BIC:               </th> <td>   475.5</td>\n",
       "</tr>\n",
       "<tr>\n",
       "  <th>Df Model:</th>              <td>     2</td>      <th>                     </th>     <td> </td>   \n",
       "</tr>\n",
       "<tr>\n",
       "  <th>Covariance Type:</th>      <td>nonrobust</td>    <th>                     </th>     <td> </td>   \n",
       "</tr>\n",
       "</table>\n",
       "<table class=\"simpletable\">\n",
       "<tr>\n",
       "    <td></td>       <th>coef</th>     <th>std err</th>      <th>t</th>      <th>P>|t|</th>  <th>[0.025</th>    <th>0.975]</th>  \n",
       "</tr>\n",
       "<tr>\n",
       "  <th>const</th> <td>   -0.0246</td> <td>    0.087</td> <td>   -0.282</td> <td> 0.778</td> <td>   -0.197</td> <td>    0.148</td>\n",
       "</tr>\n",
       "<tr>\n",
       "  <th>X1</th>    <td>    0.4749</td> <td>    0.055</td> <td>    8.669</td> <td> 0.000</td> <td>    0.367</td> <td>    0.583</td>\n",
       "</tr>\n",
       "<tr>\n",
       "  <th>X2</th>    <td>    0.5884</td> <td>    0.051</td> <td>   11.553</td> <td> 0.000</td> <td>    0.488</td> <td>    0.689</td>\n",
       "</tr>\n",
       "</table>\n",
       "<table class=\"simpletable\">\n",
       "<tr>\n",
       "  <th>Omnibus:</th>       <td> 4.742</td> <th>  Durbin-Watson:     </th> <td>   1.923</td>\n",
       "</tr>\n",
       "<tr>\n",
       "  <th>Prob(Omnibus):</th> <td> 0.093</td> <th>  Jarque-Bera (JB):  </th> <td>   2.683</td>\n",
       "</tr>\n",
       "<tr>\n",
       "  <th>Skew:</th>          <td> 0.041</td> <th>  Prob(JB):          </th> <td>   0.261</td>\n",
       "</tr>\n",
       "<tr>\n",
       "  <th>Kurtosis:</th>      <td> 2.363</td> <th>  Cond. No.          </th> <td>    1.95</td>\n",
       "</tr>\n",
       "</table><br/><br/>Notes:<br/>[1] Standard Errors assume that the covariance matrix of the errors is correctly specified."
      ],
      "text/latex": [
       "\\begin{center}\n",
       "\\begin{tabular}{lclc}\n",
       "\\toprule\n",
       "\\textbf{Dep. Variable:}    &        y         & \\textbf{  R-squared:         } &     0.637   \\\\\n",
       "\\textbf{Model:}            &       OLS        & \\textbf{  Adj. R-squared:    } &     0.632   \\\\\n",
       "\\textbf{Method:}           &  Least Squares   & \\textbf{  F-statistic:       } &     134.0   \\\\\n",
       "\\textbf{Date:}             & Sat, 22 Jun 2024 & \\textbf{  Prob (F-statistic):} &  2.34e-34   \\\\\n",
       "\\textbf{Time:}             &     19:44:45     & \\textbf{  Log-Likelihood:    } &   -230.17   \\\\\n",
       "\\textbf{No. Observations:} &         156      & \\textbf{  AIC:               } &     466.3   \\\\\n",
       "\\textbf{Df Residuals:}     &         153      & \\textbf{  BIC:               } &     475.5   \\\\\n",
       "\\textbf{Df Model:}         &           2      & \\textbf{                     } &             \\\\\n",
       "\\textbf{Covariance Type:}  &    nonrobust     & \\textbf{                     } &             \\\\\n",
       "\\bottomrule\n",
       "\\end{tabular}\n",
       "\\begin{tabular}{lcccccc}\n",
       "               & \\textbf{coef} & \\textbf{std err} & \\textbf{t} & \\textbf{P$> |$t$|$} & \\textbf{[0.025} & \\textbf{0.975]}  \\\\\n",
       "\\midrule\n",
       "\\textbf{const} &      -0.0246  &        0.087     &    -0.282  &         0.778        &       -0.197    &        0.148     \\\\\n",
       "\\textbf{X1}    &       0.4749  &        0.055     &     8.669  &         0.000        &        0.367    &        0.583     \\\\\n",
       "\\textbf{X2}    &       0.5884  &        0.051     &    11.553  &         0.000        &        0.488    &        0.689     \\\\\n",
       "\\bottomrule\n",
       "\\end{tabular}\n",
       "\\begin{tabular}{lclc}\n",
       "\\textbf{Omnibus:}       &  4.742 & \\textbf{  Durbin-Watson:     } &    1.923  \\\\\n",
       "\\textbf{Prob(Omnibus):} &  0.093 & \\textbf{  Jarque-Bera (JB):  } &    2.683  \\\\\n",
       "\\textbf{Skew:}          &  0.041 & \\textbf{  Prob(JB):          } &    0.261  \\\\\n",
       "\\textbf{Kurtosis:}      &  2.363 & \\textbf{  Cond. No.          } &     1.95  \\\\\n",
       "\\bottomrule\n",
       "\\end{tabular}\n",
       "%\\caption{OLS Regression Results}\n",
       "\\end{center}\n",
       "\n",
       "Notes: \\newline\n",
       " [1] Standard Errors assume that the covariance matrix of the errors is correctly specified."
      ],
      "text/plain": [
       "<class 'statsmodels.iolib.summary.Summary'>\n",
       "\"\"\"\n",
       "                            OLS Regression Results                            \n",
       "==============================================================================\n",
       "Dep. Variable:                      y   R-squared:                       0.637\n",
       "Model:                            OLS   Adj. R-squared:                  0.632\n",
       "Method:                 Least Squares   F-statistic:                     134.0\n",
       "Date:                Sat, 22 Jun 2024   Prob (F-statistic):           2.34e-34\n",
       "Time:                        19:44:45   Log-Likelihood:                -230.17\n",
       "No. Observations:                 156   AIC:                             466.3\n",
       "Df Residuals:                     153   BIC:                             475.5\n",
       "Df Model:                           2                                         \n",
       "Covariance Type:            nonrobust                                         \n",
       "==============================================================================\n",
       "                 coef    std err          t      P>|t|      [0.025      0.975]\n",
       "------------------------------------------------------------------------------\n",
       "const         -0.0246      0.087     -0.282      0.778      -0.197       0.148\n",
       "X1             0.4749      0.055      8.669      0.000       0.367       0.583\n",
       "X2             0.5884      0.051     11.553      0.000       0.488       0.689\n",
       "==============================================================================\n",
       "Omnibus:                        4.742   Durbin-Watson:                   1.923\n",
       "Prob(Omnibus):                  0.093   Jarque-Bera (JB):                2.683\n",
       "Skew:                           0.041   Prob(JB):                        0.261\n",
       "Kurtosis:                       2.363   Cond. No.                         1.95\n",
       "==============================================================================\n",
       "\n",
       "Notes:\n",
       "[1] Standard Errors assume that the covariance matrix of the errors is correctly specified.\n",
       "\"\"\""
      ]
     },
     "execution_count": 47,
     "metadata": {},
     "output_type": "execute_result"
    }
   ],
   "source": [
    "loaded_model.summary()"
   ]
  },
  {
   "cell_type": "code",
   "execution_count": 20,
   "metadata": {},
   "outputs": [],
   "source": [
    "import json\n",
    "import pickle"
   ]
  },
  {
   "cell_type": "code",
   "execution_count": 7,
   "metadata": {},
   "outputs": [
    {
     "data": {
      "text/plain": [
       "<matplotlib.collections.PathCollection at 0x7d7eba0145d0>"
      ]
     },
     "execution_count": 7,
     "metadata": {},
     "output_type": "execute_result"
    },
    {
     "data": {
      "image/png": "[encoded data removed]",
      "text/plain": [
       "<Figure size 640x480 with 1 Axes>"
      ]
     },
     "metadata": {},
     "output_type": "display_data"
    }
   ],
   "source": [
    "plt.scatter(my_model.predict(df[['X1', 'X2']]), df['y'])"
   ]
  },
  {
   "cell_type": "code",
   "execution_count": null,
   "metadata": {},
   "outputs": [],
   "source": []
  },
  {
   "cell_type": "code",
   "execution_count": null,
   "metadata": {},
   "outputs": [],
   "source": []
  },
  {
   "cell_type": "code",
   "execution_count": null,
   "metadata": {},
   "outputs": [],
   "source": []
  }
 ],
 "metadata": {
  "kernelspec": {
   "display_name": "model_playground",
   "language": "python",
   "name": "python3"
  },
  "language_info": {
   "codemirror_mode": {
    "name": "ipython",
    "version": 3
   },
   "file_extension": ".py",
   "mimetype": "text/x-python",
   "name": "python",
   "nbconvert_exporter": "python",
   "pygments_lexer": "ipython3",
   "version": "3.11.9"
  }
 },
 "nbformat": 4,
 "nbformat_minor": 2
}
