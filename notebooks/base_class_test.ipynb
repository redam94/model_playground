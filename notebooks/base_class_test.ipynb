{
 "cells": [
  {
   "cell_type": "code",
   "execution_count": 53,
   "metadata": {},
   "outputs": [],
   "source": [
    "import abc\n",
    "from datetime import datetime\n",
    "from uuid import uuid4\n",
    "import pandas as pd\n",
    "import numpy as np\n",
    "import matplotlib.pyplot as plt\n",
    "import sys\n",
    "\n",
    "sys.path.append('..')\n"
   ]
  },
  {
   "cell_type": "code",
   "execution_count": 54,
   "metadata": {},
   "outputs": [],
   "source": [
    "class BaseModel(abc.ABC):\n",
    "  name: str\n",
    "  description: str\n",
    "  \n",
    "  @abc.abstractmethod\n",
    "  def serialize(self):\n",
    "    \"\"\"Serialize the model to a dictionary\"\"\"\n",
    "    pass\n",
    "  \n",
    "  def save(self, filename: str = None):\n",
    "    \"\"\"Save the model to a file\"\"\"\n",
    "    if filename is None:\n",
    "      filename = f\"{self.name}_{datetime.now().isoformat()}_{uuid4()}.model\"\n",
    "    \n",
    "    with open(filename, \"w\") as f:\n",
    "      f.write(self.serialize())\n",
    "  \n",
    "  @abc.abstractmethod\n",
    "  def load(self, serialized_model: dict):\n",
    "    \"\"\"Load the model from serialized data\"\"\"\n",
    "    pass\n",
    "  "
   ]
  },
  {
   "cell_type": "code",
   "execution_count": 77,
   "metadata": {},
   "outputs": [],
   "source": [
    "class SupervisedModel(BaseModel):\n",
    "  def __init__(self):\n",
    "    self._ivs = None\n",
    "    self._dvs = None\n",
    "    self._is_fitted = False\n",
    "    \n",
    "  @abc.abstractmethod\n",
    "  def fit(self, X, y, *args, **kwargs):\n",
    "    \"\"\"Train the model\"\"\"\n",
    "    pass\n",
    "  \n",
    "  @abc.abstractmethod\n",
    "  def predict(self, X):\n",
    "    \"\"\"Predict the target variable\"\"\"\n",
    "    pass\n",
    "  \n",
    "  @abc.abstractmethod\n",
    "  def evaluate(self, X, y):\n",
    "    \"\"\"Evaluate the model\"\"\"\n",
    "    pass\n",
    "  \n",
    "  def set_ivs(self, ivs: pd.DataFrame):\n",
    "    self._ivs = list(ivs.columns)\n",
    "  \n",
    "  def set_dvs(self, dvs: pd.DataFrame | pd.Series):\n",
    "    if isinstance(dvs, pd.Series):\n",
    "      self._dvs = [dvs.name]\n",
    "    else:\n",
    "      self._dvs = list(dvs.columns)\n",
    "  \n",
    "  "
   ]
  },
  {
   "cell_type": "code",
   "execution_count": 78,
   "metadata": {},
   "outputs": [
    {
     "data": {
      "text/plain": [
       "'y'"
      ]
     },
     "execution_count": 78,
     "metadata": {},
     "output_type": "execute_result"
    }
   ],
   "source": [
    "df['y'].name"
   ]
  },
  {
   "cell_type": "code",
   "execution_count": 97,
   "metadata": {},
   "outputs": [],
   "source": [
    "class ModelNotFittedError(AttributeError):\n",
    "  def __init__(self, message=\"Model is not fitted\"):\n",
    "    self.message = message\n",
    "    super().__init__(self.message)"
   ]
  },
  {
   "cell_type": "code",
   "execution_count": 102,
   "metadata": {},
   "outputs": [],
   "source": [
    "class OLS(SupervisedModel):\n",
    "  name = \"OLS\"\n",
    "  description = \"Ordinary Least Squares\"\n",
    "  \n",
    "  def __init__(self, intercept: bool = True):\n",
    "    super().__init__()\n",
    "    self._coefficients = None\n",
    "    self._has_intercept = intercept\n",
    "    \n",
    "  def serialize(self):\n",
    "    return {\n",
    "      \"name\": self.name,\n",
    "      \"description\": self.description\n",
    "    }\n",
    "  \n",
    "  def load(self, serialized_model: dict):\n",
    "    self.name = serialized_model[\"name\"]\n",
    "    self.description = serialized_model[\"description\"]\n",
    "    \n",
    "  def fit(self, X, y):\n",
    "    from statsmodels.api import OLS\n",
    "    self.model = OLS(y, X).fit()\n",
    "    self._is_fitted = True\n",
    "    self._coefficients = self.model.params\n",
    "    self.set_ivs(X)\n",
    "    self.set_dvs(y)\n",
    "  \n",
    "  def summary(self):\n",
    "    if not self._is_fitted:\n",
    "      raise ModelNotFittedError()\n",
    "    return self.model.summary()\n",
    "  \n",
    "  def predict(self, X):\n",
    "    if not self._is_fitted:\n",
    "      raise ModelNotFittedError()\n",
    "    \n",
    "    y_pred = self.model.predict(X)\n",
    "    return pd.DataFrame(y_pred, columns=self._dvs)\n",
    "  \n",
    "  def evaluate(self, X, y):\n",
    "    if not self._is_fitted:\n",
    "      raise Exception(\"Model not fitted\")\n",
    "    \n",
    "    from sklearn.metrics import mean_squared_error\n",
    "    y_pred = self.predict(X)\n",
    "    return mean_squared_error(y, y_pred)\n",
    "  \n"
   ]
  },
  {
   "cell_type": "code",
   "execution_count": 103,
   "metadata": {},
   "outputs": [],
   "source": [
    "my_model = OLS()"
   ]
  },
  {
   "cell_type": "code",
   "execution_count": 104,
   "metadata": {},
   "outputs": [
    {
     "data": {
      "text/html": [
       "<style type=\"text/css\">\n",
       "#T_e4d17_row0_col0, #T_e4d17_row1_col1, #T_e4d17_row2_col2 {\n",
       "  background-color: #b40426;\n",
       "  color: #f1f1f1;\n",
       "}\n",
       "#T_e4d17_row0_col1, #T_e4d17_row0_col2, #T_e4d17_row1_col0 {\n",
       "  background-color: #3b4cc0;\n",
       "  color: #f1f1f1;\n",
       "}\n",
       "#T_e4d17_row1_col2 {\n",
       "  background-color: #6b8df0;\n",
       "  color: #f1f1f1;\n",
       "}\n",
       "#T_e4d17_row2_col0 {\n",
       "  background-color: #465ecf;\n",
       "  color: #f1f1f1;\n",
       "}\n",
       "#T_e4d17_row2_col1 {\n",
       "  background-color: #779af7;\n",
       "  color: #f1f1f1;\n",
       "}\n",
       "</style>\n",
       "<table id=\"T_e4d17\">\n",
       "  <thead>\n",
       "    <tr>\n",
       "      <th class=\"blank level0\" >&nbsp;</th>\n",
       "      <th id=\"T_e4d17_level0_col0\" class=\"col_heading level0 col0\" >X1</th>\n",
       "      <th id=\"T_e4d17_level0_col1\" class=\"col_heading level0 col1\" >X2</th>\n",
       "      <th id=\"T_e4d17_level0_col2\" class=\"col_heading level0 col2\" >y</th>\n",
       "    </tr>\n",
       "  </thead>\n",
       "  <tbody>\n",
       "    <tr>\n",
       "      <th id=\"T_e4d17_level0_row0\" class=\"row_heading level0 row0\" >X1</th>\n",
       "      <td id=\"T_e4d17_row0_col0\" class=\"data row0 col0\" >1.000000</td>\n",
       "      <td id=\"T_e4d17_row0_col1\" class=\"data row0 col1\" >0.574176</td>\n",
       "      <td id=\"T_e4d17_row0_col2\" class=\"data row0 col2\" >0.592321</td>\n",
       "    </tr>\n",
       "    <tr>\n",
       "      <th id=\"T_e4d17_level0_row1\" class=\"row_heading level0 row1\" >X2</th>\n",
       "      <td id=\"T_e4d17_row1_col0\" class=\"data row1 col0\" >0.574176</td>\n",
       "      <td id=\"T_e4d17_row1_col1\" class=\"data row1 col1\" >1.000000</td>\n",
       "      <td id=\"T_e4d17_row1_col2\" class=\"data row1 col2\" >0.654870</td>\n",
       "    </tr>\n",
       "    <tr>\n",
       "      <th id=\"T_e4d17_level0_row2\" class=\"row_heading level0 row2\" >y</th>\n",
       "      <td id=\"T_e4d17_row2_col0\" class=\"data row2 col0\" >0.592321</td>\n",
       "      <td id=\"T_e4d17_row2_col1\" class=\"data row2 col1\" >0.654870</td>\n",
       "      <td id=\"T_e4d17_row2_col2\" class=\"data row2 col2\" >1.000000</td>\n",
       "    </tr>\n",
       "  </tbody>\n",
       "</table>\n"
      ],
      "text/plain": [
       "<pandas.io.formats.style.Styler at 0x7c14a387b1d0>"
      ]
     },
     "execution_count": 104,
     "metadata": {},
     "output_type": "execute_result"
    }
   ],
   "source": [
    "X = np.random.multivariate_normal([0, 0], [[1, 0.5], [0.5, 1]], 156)\n",
    "y = X.dot([0.4, 0.6]) + np.random.normal(0, 1, 156)\n",
    "data = np.vstack([X.T, y]).T\n",
    "df = pd.DataFrame(data, columns=[\"X1\", \"X2\", \"y\"])\n",
    "df.corr().style.background_gradient(cmap='coolwarm')"
   ]
  },
  {
   "cell_type": "code",
   "execution_count": 105,
   "metadata": {},
   "outputs": [
    {
     "ename": "ModelNotFittedError",
     "evalue": "Model is not fitted",
     "output_type": "error",
     "traceback": [
      "\u001b[0;31m---------------------------------------------------------------------------\u001b[0m",
      "\u001b[0;31mModelNotFittedError\u001b[0m                       Traceback (most recent call last)",
      "Cell \u001b[0;32mIn[105], line 1\u001b[0m\n\u001b[0;32m----> 1\u001b[0m \u001b[43mmy_model\u001b[49m\u001b[38;5;241;43m.\u001b[39;49m\u001b[43msummary\u001b[49m\u001b[43m(\u001b[49m\u001b[43m)\u001b[49m\n",
      "Cell \u001b[0;32mIn[102], line 30\u001b[0m, in \u001b[0;36mOLS.summary\u001b[0;34m(self)\u001b[0m\n\u001b[1;32m     28\u001b[0m \u001b[38;5;28;01mdef\u001b[39;00m \u001b[38;5;21msummary\u001b[39m(\u001b[38;5;28mself\u001b[39m):\n\u001b[1;32m     29\u001b[0m   \u001b[38;5;28;01mif\u001b[39;00m \u001b[38;5;129;01mnot\u001b[39;00m \u001b[38;5;28mself\u001b[39m\u001b[38;5;241m.\u001b[39m_is_fitted:\n\u001b[0;32m---> 30\u001b[0m     \u001b[38;5;28;01mraise\u001b[39;00m ModelNotFittedError()\n\u001b[1;32m     31\u001b[0m   \u001b[38;5;28;01mreturn\u001b[39;00m \u001b[38;5;28mself\u001b[39m\u001b[38;5;241m.\u001b[39mmodel\u001b[38;5;241m.\u001b[39msummary()\n",
      "\u001b[0;31mModelNotFittedError\u001b[0m: Model is not fitted"
     ]
    }
   ],
   "source": [
    "my_model.summary()"
   ]
  },
  {
   "cell_type": "code",
   "execution_count": 106,
   "metadata": {},
   "outputs": [],
   "source": [
    "my_model.fit(df[['X1', 'X2']], df['y'])"
   ]
  },
  {
   "cell_type": "code",
   "execution_count": 107,
   "metadata": {},
   "outputs": [
    {
     "data": {
      "text/plain": [
       "<matplotlib.collections.PathCollection at 0x7c14a483a690>"
      ]
     },
     "execution_count": 107,
     "metadata": {},
     "output_type": "execute_result"
    },
    {
     "data": {
      "image/png": "[encoded data removed]",
      "text/plain": [
       "<Figure size 640x480 with 1 Axes>"
      ]
     },
     "metadata": {},
     "output_type": "display_data"
    }
   ],
   "source": [
    "plt.scatter(my_model.predict(df[['X1', 'X2']]), df['y'])"
   ]
  },
  {
   "cell_type": "code",
   "execution_count": null,
   "metadata": {},
   "outputs": [],
   "source": []
  },
  {
   "cell_type": "code",
   "execution_count": null,
   "metadata": {},
   "outputs": [],
   "source": []
  },
  {
   "cell_type": "code",
   "execution_count": null,
   "metadata": {},
   "outputs": [],
   "source": []
  }
 ],
 "metadata": {
  "kernelspec": {
   "display_name": "model_playground",
   "language": "python",
   "name": "python3"
  },
  "language_info": {
   "codemirror_mode": {
    "name": "ipython",
    "version": 3
   },
   "file_extension": ".py",
   "mimetype": "text/x-python",
   "name": "python",
   "nbconvert_exporter": "python",
   "pygments_lexer": "ipython3",
   "version": "3.11.9"
  }
 },
 "nbformat": 4,
 "nbformat_minor": 2
}
